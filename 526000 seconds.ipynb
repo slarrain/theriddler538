{
 "cells": [
  {
   "cell_type": "code",
   "execution_count": 1,
   "metadata": {},
   "outputs": [],
   "source": [
    "# https://fivethirtyeight.com/features/525600-minutes-of-math/\n",
    "import itertools"
   ]
  },
  {
   "cell_type": "code",
   "execution_count": 4,
   "metadata": {},
   "outputs": [],
   "source": [
    "all_options = list(itertools.combinations(range(1,10), r=5))"
   ]
  },
  {
   "cell_type": "code",
   "execution_count": 5,
   "metadata": {},
   "outputs": [],
   "source": [
    "a = all_options[1]"
   ]
  },
  {
   "cell_type": "code",
   "execution_count": 16,
   "metadata": {},
   "outputs": [],
   "source": [
    "d = {}\n",
    "for option in all_options:\n",
    "    combinations = itertools.product(option, repeat=3)\n",
    "    for combination in combinations:\n",
    "        if sum(combination) == 15:\n",
    "            if option in d:\n",
    "                d[option] += 1\n",
    "            else:\n",
    "                d[option] = 1\n",
    "            "
   ]
  },
  {
   "cell_type": "code",
   "execution_count": 18,
   "metadata": {},
   "outputs": [],
   "source": [
    "all_options_3 = itertools.combinations(range(1,10), r=3)\n",
    "sum_15 = []\n",
    "for option in all_options_3:\n",
    "    if sum(option) == 15:\n",
    "        sum_15.append(option)"
   ]
  },
  {
   "cell_type": "code",
   "execution_count": 19,
   "metadata": {},
   "outputs": [
    {
     "data": {
      "text/plain": [
       "[(1, 5, 9),\n",
       " (1, 6, 8),\n",
       " (2, 4, 9),\n",
       " (2, 5, 8),\n",
       " (2, 6, 7),\n",
       " (3, 4, 8),\n",
       " (3, 5, 7),\n",
       " (4, 5, 6)]"
      ]
     },
     "execution_count": 19,
     "metadata": {},
     "output_type": "execute_result"
    }
   ],
   "source": [
    "sum_15"
   ]
  },
  {
   "cell_type": "code",
   "execution_count": 23,
   "metadata": {},
   "outputs": [],
   "source": [
    "k = {}\n",
    "for option in sum_15:\n",
    "    for n in option:\n",
    "        k[n] = 0\n",
    "for option in sum_15:\n",
    "    for n in option:\n",
    "        k[n] += 1"
   ]
  },
  {
   "cell_type": "code",
   "execution_count": 24,
   "metadata": {},
   "outputs": [
    {
     "data": {
      "text/plain": [
       "{1: 2, 5: 4, 9: 2, 6: 3, 8: 3, 2: 3, 4: 3, 7: 2, 3: 2}"
      ]
     },
     "execution_count": 24,
     "metadata": {},
     "output_type": "execute_result"
    }
   ],
   "source": [
    "k"
   ]
  },
  {
   "cell_type": "code",
   "execution_count": 27,
   "metadata": {},
   "outputs": [
    {
     "data": {
      "text/plain": [
       "[(1, 5, 9), (2, 5, 8), (3, 5, 7), (4, 5, 6)]"
      ]
     },
     "execution_count": 27,
     "metadata": {},
     "output_type": "execute_result"
    }
   ],
   "source": [
    "# Step 1: Select 5\n",
    "out5 = list(itertools.filterfalse(lambda x: 5 not in x, sum_15))\n",
    "out5"
   ]
  },
  {
   "cell_type": "code",
   "execution_count": 30,
   "metadata": {},
   "outputs": [
    {
     "data": {
      "text/plain": [
       "[(1, 5, 9), (2, 4, 9), (2, 5, 8), (3, 4, 8), (3, 5, 7)]"
      ]
     },
     "execution_count": 30,
     "metadata": {},
     "output_type": "execute_result"
    }
   ],
   "source": [
    "# Step 1B: Select 6\n",
    "out6 = list(itertools.filterfalse(lambda x: 6 in x, sum_15))\n",
    "out6"
   ]
  },
  {
   "cell_type": "code",
   "execution_count": 33,
   "metadata": {},
   "outputs": [
    {
     "data": {
      "text/plain": [
       "[(2, 5, 8), (3, 4, 8)]"
      ]
     },
     "execution_count": 33,
     "metadata": {},
     "output_type": "execute_result"
    }
   ],
   "source": [
    "# Step 2: Select 8\n",
    "out8 = list(itertools.filterfalse(lambda x: 8 not in x, out6))\n",
    "out8"
   ]
  },
  {
   "cell_type": "code",
   "execution_count": 34,
   "metadata": {},
   "outputs": [
    {
     "data": {
      "text/plain": [
       "[(1, 5, 9), (3, 4, 8), (3, 5, 7)]"
      ]
     },
     "execution_count": 34,
     "metadata": {},
     "output_type": "execute_result"
    }
   ],
   "source": [
    "# Step 2B: Select 2\n",
    "out62 = list(itertools.filterfalse(lambda x: 2 in x, out6))\n",
    "out62"
   ]
  },
  {
   "cell_type": "code",
   "execution_count": 35,
   "metadata": {},
   "outputs": [
    {
     "data": {
      "text/plain": [
       "[(3, 4, 8), (3, 5, 7)]"
      ]
     },
     "execution_count": 35,
     "metadata": {},
     "output_type": "execute_result"
    }
   ],
   "source": [
    "# Step 3: Select 3\n",
    "out3 = list(itertools.filterfalse(lambda x: 3 not in x, out62))\n",
    "out3"
   ]
  },
  {
   "cell_type": "code",
   "execution_count": 36,
   "metadata": {},
   "outputs": [],
   "source": [
    "# I win"
   ]
  },
  {
   "cell_type": "code",
   "execution_count": 37,
   "metadata": {},
   "outputs": [],
   "source": [
    "# Actually, I loose. He gets 7, and 2,6,7 == 15"
   ]
  },
  {
   "cell_type": "code",
   "execution_count": 38,
   "metadata": {},
   "outputs": [
    {
     "name": "stdout",
     "output_type": "stream",
     "text": [
      "[2, [[9, 8, 3, 6, 2], [5, 7, 4, 1]]]\n"
     ]
    }
   ],
   "source": [
    "\n",
    "# Nine-card game played optimally.  Players are 0 and 1, cards are 1 to 9.\n",
    "\n",
    "def handWins(hand):\n",
    "\tfor i in range(len(hand) - 2):\n",
    "\t\tfor j in range(i+1, len(hand) - 1):\n",
    "\t\t\tfor k in range(j+1,len(hand)):\n",
    "\t\t\t\tif hand[i] + hand[j] + hand[k] == 15:\n",
    "\t\t\t\t\treturn True\n",
    "\treturn False\n",
    "\n",
    "def getOptimalCompletion(hands, nextPlayer):\n",
    "\t# if game's over, return the result and the hands\n",
    "\tif handWins(hands[0]):\n",
    "\t\treturn [0,hands]\n",
    "\telif handWins(hands[1]):\n",
    "\t\treturn [1,hands]\n",
    "\telif len(hands[0]) == 5:\n",
    "\t\treturn [2,hands]\n",
    "\t# otherwise, find the best optimal completion available by playing each\n",
    "\t# of the remaining cards, and return that.\n",
    "\tbestOptimalCompletion = []\n",
    "\tfor nextCard in range(1,10):\n",
    "\t\tif nextCard in hands[0] or nextCard in hands[1]:\n",
    "\t\t\tcontinue\n",
    "\t\tnewHands = [list(hands[0]), list(hands[1])]\n",
    "\t\tnewHands[nextPlayer].append(nextCard)\n",
    "\t\tOptimalCompletion = getOptimalCompletion(newHands, 1 - nextPlayer)\n",
    "\t\tif OptimalCompletion[0] == nextPlayer:\n",
    "\t\t\treturn OptimalCompletion\n",
    "\t\telif OptimalCompletion[0] == 2 or bestOptimalCompletion == []:\n",
    "\t\t\t# a draw, or a loss but the first card tested; best so far either way\n",
    "\t\t\tbestOptimalCompletion = OptimalCompletion\n",
    "\treturn bestOptimalCompletion\n",
    "\n",
    "print(getOptimalCompletion ([[],[]],0))\n",
    "\n"
   ]
  }
 ],
 "metadata": {
  "kernelspec": {
   "display_name": "Python 3",
   "language": "python",
   "name": "python3"
  },
  "language_info": {
   "codemirror_mode": {
    "name": "ipython",
    "version": 3
   },
   "file_extension": ".py",
   "mimetype": "text/x-python",
   "name": "python",
   "nbconvert_exporter": "python",
   "pygments_lexer": "ipython3",
   "version": "3.6.7"
  }
 },
 "nbformat": 4,
 "nbformat_minor": 2
}
