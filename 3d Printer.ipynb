{
 "cells": [
  {
   "cell_type": "code",
   "execution_count": 53,
   "metadata": {},
   "outputs": [],
   "source": [
    "# 3d printers\n",
    "# https://fivethirtyeight.com/features/in-space-no-one-can-hear-your-3d-printer-die/\n",
    "import operator\n",
    "from functools import reduce\n"
   ]
  },
  {
   "cell_type": "code",
   "execution_count": 54,
   "metadata": {},
   "outputs": [],
   "source": [
    "p1 = 10/100\n",
    "p2 = 7.5/100\n",
    "p3 = 5/100\n",
    "days = 1825\n",
    "all_p = [p1, p2, p3]"
   ]
  },
  {
   "cell_type": "code",
   "execution_count": 55,
   "metadata": {},
   "outputs": [],
   "source": [
    "# Case 1: All fail\n",
    "one_day = 1-reduce(operator.mul, all_p, 1)\n",
    "p_never_all = one_day**days"
   ]
  },
  {
   "cell_type": "code",
   "execution_count": 56,
   "metadata": {},
   "outputs": [
    {
     "name": "stdout",
     "output_type": "stream",
     "text": [
      "0.5402604689123267\n",
      "0.5310974466180908\n",
      "0.5220897488988433\n"
     ]
    },
    {
     "data": {
      "text/plain": [
       "0.05106508957527655"
      ]
     },
     "execution_count": 56,
     "metadata": {},
     "output_type": "execute_result"
    }
   ],
   "source": [
    "# Case 2: A B fails, then C\n",
    "# Case 3: A C fails, then B\n",
    "# Case 4 C B fails, then A\n",
    "final = [p_never_all]\n",
    "for p in all_p:\n",
    "    \n",
    "    px = (1 - reduce(operator.mul, all_p, 1) * (1-p))**(days-1)\n",
    "    print (px)\n",
    "    final.append(px)\n",
    "\n",
    "reduce(operator.mul, map(lambda x: 1-x, final), 1)"
   ]
  },
  {
   "cell_type": "code",
   "execution_count": 58,
   "metadata": {},
   "outputs": [],
   "source": [
    "# The correct answer for the Riddle according to 538 is p_never_all, because I assumed that the day a printer was fixed was not available to work\n",
    "# For example, if A and B failed, C had to print the vital part or they would die. If it fixed B, B wouldnt be able to print anything that day, thus dying"
   ]
  },
  {
   "cell_type": "code",
   "execution_count": null,
   "metadata": {},
   "outputs": [],
   "source": []
  }
 ],
 "metadata": {
  "kernelspec": {
   "display_name": "Python 3",
   "language": "python",
   "name": "python3"
  },
  "language_info": {
   "codemirror_mode": {
    "name": "ipython",
    "version": 3
   },
   "file_extension": ".py",
   "mimetype": "text/x-python",
   "name": "python",
   "nbconvert_exporter": "python",
   "pygments_lexer": "ipython3",
   "version": "3.6.3"
  }
 },
 "nbformat": 4,
 "nbformat_minor": 2
}
