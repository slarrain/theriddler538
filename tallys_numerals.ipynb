{
 "cells": [
  {
   "cell_type": "code",
   "execution_count": null,
   "metadata": {},
   "outputs": [],
   "source": [
    "# https://fivethirtyeight.com/features/how-many-numbers-contain-the-numbers-of-their-numbers/\n",
    "import itertools"
   ]
  },
  {
   "cell_type": "code",
   "execution_count": null,
   "metadata": {},
   "outputs": [],
   "source": [
    "def count_numbers(n):\n",
    "    ns = str(n)\n",
    "    rv = {}\n",
    "    for x in range(0, 10):\n",
    "        xs = str(x)\n",
    "        numeral = len(list(filter(lambda y: y == xs, ns)))\n",
    "        if numeral > 0:\n",
    "            rv[x] = numeral\n",
    "    return rv\n",
    "\n",
    "def check(n):\n",
    "    ns = str(n)\n",
    "    tallies = []\n",
    "    numerals = []\n",
    "    if len(ns)%2!=0:\n",
    "        return False\n",
    "    for x in range(0, len(ns)):\n",
    "        if x%2 == 0:\n",
    "            tallies.append(int(ns[x]))\n",
    "        else:\n",
    "            numerals.append(int(ns[x]))\n",
    "    print (tallies, numerals)\n",
    "    if not all([numerals[x]<numerals[x+1] for x in range(0, len(numerals)-1)]):\n",
    "        return False\n",
    "    d = count_numbers(n)\n",
    "    for i in range(len(tallies)):\n",
    "        if d[numerals[i]] != tallies[i]:\n",
    "            return False\n",
    "    \n",
    "    print (n)\n",
    "    return True\n",
    "        \n",
    "def check2(n):\n",
    "    ns = str(n)\n",
    "    tallies = []\n",
    "    numerals = []\n",
    "    if len(ns)%2!=0:\n",
    "        return False\n",
    "    d2 = {}\n",
    "    for x in range(0, len(ns), 2):\n",
    "        d2[int(ns[x+1])] = int(ns[x])\n",
    "        if x%2 == 0:\n",
    "            tallies.append(int(ns[x]))\n",
    "        else:\n",
    "            numerals.append(int(ns[x]))\n",
    "#     print (tallies, numerals)\n",
    "    if not all([numerals[x]<numerals[x+1] for x in range(0, len(numerals)-1)]):\n",
    "        return False\n",
    "    d = count_numbers(n)\n",
    "    for i in range(len(tallies)):\n",
    "        if d[numerals[i]] != tallies[i]:\n",
    "            return False\n",
    "#     print (n)\n",
    "#     print (d, d2)\n",
    "    if d == d2:\n",
    "        print (n)\n",
    "        print (d, d2)\n",
    "\n",
    "        return True\n",
    "    else:\n",
    "        return False\n",
    "    "
   ]
  },
  {
   "cell_type": "code",
   "execution_count": null,
   "metadata": {
    "scrolled": true
   },
   "outputs": [],
   "source": [
    "correct = []\n",
    "for x in range(999999999999999999):\n",
    "    if check(x):\n",
    "        correct.append(x)"
   ]
  },
  {
   "cell_type": "code",
   "execution_count": null,
   "metadata": {},
   "outputs": [],
   "source": [
    "x"
   ]
  },
  {
   "cell_type": "code",
   "execution_count": null,
   "metadata": {},
   "outputs": [],
   "source": [
    "\n",
    "for y in range(1, len(x1), 2):\n",
    "    print (x1[y])"
   ]
  },
  {
   "cell_type": "code",
   "execution_count": null,
   "metadata": {},
   "outputs": [],
   "source": [
    "y1 = [3,5,7,8]"
   ]
  },
  {
   "cell_type": "code",
   "execution_count": null,
   "metadata": {},
   "outputs": [],
   "source": [
    "all([y1[x]<y1[x+1] for x in range(0, len(y1)-1)])"
   ]
  },
  {
   "cell_type": "code",
   "execution_count": null,
   "metadata": {},
   "outputs": [],
   "source": [
    "count_numbers(x)"
   ]
  },
  {
   "cell_type": "code",
   "execution_count": null,
   "metadata": {},
   "outputs": [],
   "source": [
    "x = '2244142463245'\n",
    "x1 = '234567889'"
   ]
  },
  {
   "cell_type": "code",
   "execution_count": null,
   "metadata": {},
   "outputs": [],
   "source": [
    "list(itertools.filterfalse(2, x))"
   ]
  },
  {
   "cell_type": "code",
   "execution_count": null,
   "metadata": {},
   "outputs": [],
   "source": [
    "list(filter(lambda y: y == '2', '1345544'))"
   ]
  },
  {
   "cell_type": "code",
   "execution_count": null,
   "metadata": {},
   "outputs": [],
   "source": []
  }
 ],
 "metadata": {
  "kernelspec": {
   "display_name": "Python 3",
   "language": "python",
   "name": "python3"
  },
  "language_info": {
   "codemirror_mode": {
    "name": "ipython",
    "version": 3
   },
   "file_extension": ".py",
   "mimetype": "text/x-python",
   "name": "python",
   "nbconvert_exporter": "python",
   "pygments_lexer": "ipython3",
   "version": "3.6.3"
  }
 },
 "nbformat": 4,
 "nbformat_minor": 2
}
