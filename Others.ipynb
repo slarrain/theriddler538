{
 "cells": [
  {
   "cell_type": "code",
   "execution_count": 55,
   "metadata": {},
   "outputs": [],
   "source": [
    "import random\n",
    "import numpy as np"
   ]
  },
  {
   "cell_type": "code",
   "execution_count": null,
   "metadata": {},
   "outputs": [],
   "source": [
    "# 50 coffes"
   ]
  },
  {
   "cell_type": "code",
   "execution_count": 72,
   "metadata": {},
   "outputs": [],
   "source": [
    "def simulate(times):\n",
    "    rv = 0\n",
    "    rv2 = []\n",
    "    for i in range(times):\n",
    "        d = { \n",
    "            'a': 50,\n",
    "            'b': 50,\n",
    "        }\n",
    "        key = random.choice(list(e.keys()))\n",
    "        while (d[key] > 0):\n",
    "            d[key] -= 1\n",
    "            key = random.choice(list(e.keys()))\n",
    "        other_key = d[list(d.keys()-key)[0]]\n",
    "        rv2.append(other_key)\n",
    "        rv += 1 if other_key > 0 else 0\n",
    "#     print (rv, rv2)\n",
    "    return rv/times, np.mean(rv2)"
   ]
  },
  {
   "cell_type": "code",
   "execution_count": null,
   "metadata": {},
   "outputs": [],
   "source": [
    "simulate(99999999)"
   ]
  }
 ],
 "metadata": {
  "kernelspec": {
   "display_name": "Python 3",
   "language": "python",
   "name": "python3"
  },
  "language_info": {
   "codemirror_mode": {
    "name": "ipython",
    "version": 3
   },
   "file_extension": ".py",
   "mimetype": "text/x-python",
   "name": "python",
   "nbconvert_exporter": "python",
   "pygments_lexer": "ipython3",
   "version": "3.6.7"
  }
 },
 "nbformat": 4,
 "nbformat_minor": 2
}
